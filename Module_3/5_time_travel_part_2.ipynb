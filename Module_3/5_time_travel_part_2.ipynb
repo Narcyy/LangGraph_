{
 "cells": [
  {
   "cell_type": "code",
   "execution_count": 23,
   "metadata": {},
   "outputs": [],
   "source": [
    "from langchain_openai import ChatOpenAI\n",
    "\n",
    "# Functions\n",
    "def multiply(a:int, b:int):\n",
    "    \"\"\"Mutliply\"\"\"\n",
    "    return a*b\n",
    "\n",
    "def add(a:int, b:int):\n",
    "    \"\"\"Addition\"\"\"\n",
    "    return a+b\n",
    "\n",
    "tools = [multiply, add]\n",
    "\n",
    "llm = ChatOpenAI(model=\"gpt-4o-mini\")\n",
    "\n",
    "llm_with_tools = llm.bind_tools(tools)"
   ]
  },
  {
   "cell_type": "code",
   "execution_count": 24,
   "metadata": {},
   "outputs": [],
   "source": [
    "from langgraph.graph import MessagesState\n",
    "from langgraph.graph import START, END, StateGraph\n",
    "from langgraph.prebuilt import tools_condition, ToolNode\n",
    "from langchain_core.messages import AIMessage, HumanMessage, SystemMessage\n",
    "from langgraph.checkpoint.memory import MemorySaver\n",
    "\n",
    "# System message\n",
    "sys_msg = SystemMessage(content=\"You are a helpful assistant tasked with performing arithmetic on a set of inputs.\")\n",
    "\n",
    "# Node\n",
    "def assistant(state: MessagesState):\n",
    "   return {\"messages\": [llm_with_tools.invoke([sys_msg] + state[\"messages\"])]}\n",
    "\n",
    "# Graph\n",
    "builder = StateGraph(MessagesState)\n",
    "\n",
    "# Define nodes\n",
    "builder.add_node(\"assistant\", assistant)\n",
    "builder.add_node(\"tools\", ToolNode(tools))\n",
    "\n",
    "# Define edges\n",
    "builder.add_edge(START, \"assistant\")\n",
    "builder.add_conditional_edges(\n",
    "    \"assistant\",\n",
    "        tools_condition,\n",
    ")\n",
    "builder.add_edge(\"tools\", \"assistant\")\n",
    "\n",
    "memory = MemorySaver()\n",
    "graph = builder.compile(checkpointer=MemorySaver())"
   ]
  },
  {
   "cell_type": "code",
   "execution_count": 25,
   "metadata": {},
   "outputs": [
    {
     "name": "stdout",
     "output_type": "stream",
     "text": [
      "================================\u001b[1m Human Message \u001b[0m=================================\n",
      "\n",
      "Multiply 4*4\n",
      "==================================\u001b[1m Ai Message \u001b[0m==================================\n",
      "Tool Calls:\n",
      "  multiply (call_eHnWfAesprcXnCi7eIrdiOP5)\n",
      " Call ID: call_eHnWfAesprcXnCi7eIrdiOP5\n",
      "  Args:\n",
      "    a: 4\n",
      "    b: 4\n",
      "=================================\u001b[1m Tool Message \u001b[0m=================================\n",
      "Name: multiply\n",
      "\n",
      "16\n",
      "==================================\u001b[1m Ai Message \u001b[0m==================================\n",
      "\n",
      "The result of multiplying 4 by 4 is 16.\n"
     ]
    }
   ],
   "source": [
    "from pprint import pprint\n",
    "config = {\"configurable\":{\"thread_id\":\"1\"}}\n",
    "\n",
    "input= {\"messages\": \"Multiply 4*4\"}\n",
    "\n",
    "for event in graph.stream(input, config, stream_mode=\"values\"):\n",
    "    event['messages'][-1].pretty_print()"
   ]
  },
  {
   "cell_type": "code",
   "execution_count": 26,
   "metadata": {},
   "outputs": [
    {
     "data": {
      "text/plain": [
       "StateSnapshot(values={'messages': [HumanMessage(content='Multiply 4*4', additional_kwargs={}, response_metadata={}, id='2ec56e41-37be-4fd9-83a4-0c609b135526'), AIMessage(content='', additional_kwargs={'tool_calls': [{'id': 'call_eHnWfAesprcXnCi7eIrdiOP5', 'function': {'arguments': '{\"a\":4,\"b\":4}', 'name': 'multiply'}, 'type': 'function'}], 'refusal': None}, response_metadata={'token_usage': {'completion_tokens': 18, 'prompt_tokens': 83, 'total_tokens': 101, 'completion_tokens_details': {'accepted_prediction_tokens': 0, 'audio_tokens': 0, 'reasoning_tokens': 0, 'rejected_prediction_tokens': 0}, 'prompt_tokens_details': {'audio_tokens': 0, 'cached_tokens': 0}}, 'model_name': 'gpt-4o-mini-2024-07-18', 'system_fingerprint': 'fp_13eed4fce1', 'finish_reason': 'tool_calls', 'logprobs': None}, id='run-585562b1-6205-4e48-b1c1-c41a4557743d-0', tool_calls=[{'name': 'multiply', 'args': {'a': 4, 'b': 4}, 'id': 'call_eHnWfAesprcXnCi7eIrdiOP5', 'type': 'tool_call'}], usage_metadata={'input_tokens': 83, 'output_tokens': 18, 'total_tokens': 101, 'input_token_details': {'audio': 0, 'cache_read': 0}, 'output_token_details': {'audio': 0, 'reasoning': 0}}), ToolMessage(content='16', name='multiply', id='ff59dc8f-3cef-4f37-bb63-802c8fb8acf1', tool_call_id='call_eHnWfAesprcXnCi7eIrdiOP5'), AIMessage(content='The result of multiplying 4 by 4 is 16.', additional_kwargs={'refusal': None}, response_metadata={'token_usage': {'completion_tokens': 15, 'prompt_tokens': 108, 'total_tokens': 123, 'completion_tokens_details': {'accepted_prediction_tokens': 0, 'audio_tokens': 0, 'reasoning_tokens': 0, 'rejected_prediction_tokens': 0}, 'prompt_tokens_details': {'audio_tokens': 0, 'cached_tokens': 0}}, 'model_name': 'gpt-4o-mini-2024-07-18', 'system_fingerprint': 'fp_13eed4fce1', 'finish_reason': 'stop', 'logprobs': None}, id='run-940a7c5b-8de6-4c57-9b27-34b426392e0f-0', usage_metadata={'input_tokens': 108, 'output_tokens': 15, 'total_tokens': 123, 'input_token_details': {'audio': 0, 'cache_read': 0}, 'output_token_details': {'audio': 0, 'reasoning': 0}})]}, next=(), config={'configurable': {'thread_id': '1', 'checkpoint_ns': '', 'checkpoint_id': '1efedec4-5e2a-616d-8003-e479d83d15f0'}}, metadata={'source': 'loop', 'writes': {'assistant': {'messages': [AIMessage(content='The result of multiplying 4 by 4 is 16.', additional_kwargs={'refusal': None}, response_metadata={'token_usage': {'completion_tokens': 15, 'prompt_tokens': 108, 'total_tokens': 123, 'completion_tokens_details': {'accepted_prediction_tokens': 0, 'audio_tokens': 0, 'reasoning_tokens': 0, 'rejected_prediction_tokens': 0}, 'prompt_tokens_details': {'audio_tokens': 0, 'cached_tokens': 0}}, 'model_name': 'gpt-4o-mini-2024-07-18', 'system_fingerprint': 'fp_13eed4fce1', 'finish_reason': 'stop', 'logprobs': None}, id='run-940a7c5b-8de6-4c57-9b27-34b426392e0f-0', usage_metadata={'input_tokens': 108, 'output_tokens': 15, 'total_tokens': 123, 'input_token_details': {'audio': 0, 'cache_read': 0}, 'output_token_details': {'audio': 0, 'reasoning': 0}})]}}, 'thread_id': '1', 'step': 3, 'parents': {}}, created_at='2025-02-18T11:34:11.231920+00:00', parent_config={'configurable': {'thread_id': '1', 'checkpoint_ns': '', 'checkpoint_id': '1efedec3-9444-6d8c-8002-2d3f839a1c02'}}, tasks=())"
      ]
     },
     "execution_count": 26,
     "metadata": {},
     "output_type": "execute_result"
    }
   ],
   "source": [
    "graph.get_state({'configurable': {'thread_id': '1'}})"
   ]
  },
  {
   "cell_type": "code",
   "execution_count": 27,
   "metadata": {},
   "outputs": [
    {
     "data": {
      "text/plain": [
       "'2ec56e41-37be-4fd9-83a4-0c609b135526'"
      ]
     },
     "execution_count": 27,
     "metadata": {},
     "output_type": "execute_result"
    }
   ],
   "source": [
    "all_states = [s for s in graph.get_state_history(config)]\n",
    "to_fork  = all_states[-2]\n",
    "to_fork.values[\"messages\"][0].id"
   ]
  },
  {
   "cell_type": "code",
   "execution_count": 28,
   "metadata": {},
   "outputs": [
    {
     "data": {
      "text/plain": [
       "{'configurable': {'thread_id': '1',\n",
       "  'checkpoint_ns': '',\n",
       "  'checkpoint_id': '1efedec4-c01c-631b-8001-79102f9b7319'}}"
      ]
     },
     "execution_count": 28,
     "metadata": {},
     "output_type": "execute_result"
    }
   ],
   "source": [
    "fork_config = graph.update_state(\n",
    "    to_fork.config,\n",
    "    {\"messages\":[HumanMessage(\"multiply 5*5\", id = to_fork.values[\"messages\"][0].id)]} # Invoke reducer function to overwrite the pervious query!\n",
    ")\n",
    "fork_config"
   ]
  },
  {
   "cell_type": "code",
   "execution_count": 29,
   "metadata": {},
   "outputs": [
    {
     "data": {
      "text/plain": [
       "[StateSnapshot(values={'messages': [HumanMessage(content='multiply 5*5', additional_kwargs={}, response_metadata={}, id='2ec56e41-37be-4fd9-83a4-0c609b135526')]}, next=('assistant',), config={'configurable': {'thread_id': '1', 'checkpoint_ns': '', 'checkpoint_id': '1efedec4-c01c-631b-8001-79102f9b7319'}}, metadata={'source': 'update', 'writes': {'__start__': {'messages': [HumanMessage(content='multiply 5*5', additional_kwargs={}, response_metadata={}, id='2ec56e41-37be-4fd9-83a4-0c609b135526')]}}, 'thread_id': '1', 'step': 1, 'parents': {}, 'checkpoint_ns': '', 'checkpoint_id': '1efedec3-889a-6000-8000-271e06fb40c5'}, created_at='2025-02-18T11:34:21.502299+00:00', parent_config={'configurable': {'thread_id': '1', 'checkpoint_ns': '', 'checkpoint_id': '1efedec3-889a-6000-8000-271e06fb40c5'}}, tasks=(PregelTask(id='6393ef18-0163-2e72-717e-e82d8308d2ad', name='assistant', path=('__pregel_pull', 'assistant'), error=None, interrupts=(), state=None, result=None),)),\n",
       " StateSnapshot(values={'messages': [HumanMessage(content='Multiply 4*4', additional_kwargs={}, response_metadata={}, id='2ec56e41-37be-4fd9-83a4-0c609b135526'), AIMessage(content='', additional_kwargs={'tool_calls': [{'id': 'call_eHnWfAesprcXnCi7eIrdiOP5', 'function': {'arguments': '{\"a\":4,\"b\":4}', 'name': 'multiply'}, 'type': 'function'}], 'refusal': None}, response_metadata={'token_usage': {'completion_tokens': 18, 'prompt_tokens': 83, 'total_tokens': 101, 'completion_tokens_details': {'accepted_prediction_tokens': 0, 'audio_tokens': 0, 'reasoning_tokens': 0, 'rejected_prediction_tokens': 0}, 'prompt_tokens_details': {'audio_tokens': 0, 'cached_tokens': 0}}, 'model_name': 'gpt-4o-mini-2024-07-18', 'system_fingerprint': 'fp_13eed4fce1', 'finish_reason': 'tool_calls', 'logprobs': None}, id='run-585562b1-6205-4e48-b1c1-c41a4557743d-0', tool_calls=[{'name': 'multiply', 'args': {'a': 4, 'b': 4}, 'id': 'call_eHnWfAesprcXnCi7eIrdiOP5', 'type': 'tool_call'}], usage_metadata={'input_tokens': 83, 'output_tokens': 18, 'total_tokens': 101, 'input_token_details': {'audio': 0, 'cache_read': 0}, 'output_token_details': {'audio': 0, 'reasoning': 0}}), ToolMessage(content='16', name='multiply', id='ff59dc8f-3cef-4f37-bb63-802c8fb8acf1', tool_call_id='call_eHnWfAesprcXnCi7eIrdiOP5'), AIMessage(content='The result of multiplying 4 by 4 is 16.', additional_kwargs={'refusal': None}, response_metadata={'token_usage': {'completion_tokens': 15, 'prompt_tokens': 108, 'total_tokens': 123, 'completion_tokens_details': {'accepted_prediction_tokens': 0, 'audio_tokens': 0, 'reasoning_tokens': 0, 'rejected_prediction_tokens': 0}, 'prompt_tokens_details': {'audio_tokens': 0, 'cached_tokens': 0}}, 'model_name': 'gpt-4o-mini-2024-07-18', 'system_fingerprint': 'fp_13eed4fce1', 'finish_reason': 'stop', 'logprobs': None}, id='run-940a7c5b-8de6-4c57-9b27-34b426392e0f-0', usage_metadata={'input_tokens': 108, 'output_tokens': 15, 'total_tokens': 123, 'input_token_details': {'audio': 0, 'cache_read': 0}, 'output_token_details': {'audio': 0, 'reasoning': 0}})]}, next=(), config={'configurable': {'thread_id': '1', 'checkpoint_ns': '', 'checkpoint_id': '1efedec4-5e2a-616d-8003-e479d83d15f0'}}, metadata={'source': 'loop', 'writes': {'assistant': {'messages': [AIMessage(content='The result of multiplying 4 by 4 is 16.', additional_kwargs={'refusal': None}, response_metadata={'token_usage': {'completion_tokens': 15, 'prompt_tokens': 108, 'total_tokens': 123, 'completion_tokens_details': {'accepted_prediction_tokens': 0, 'audio_tokens': 0, 'reasoning_tokens': 0, 'rejected_prediction_tokens': 0}, 'prompt_tokens_details': {'audio_tokens': 0, 'cached_tokens': 0}}, 'model_name': 'gpt-4o-mini-2024-07-18', 'system_fingerprint': 'fp_13eed4fce1', 'finish_reason': 'stop', 'logprobs': None}, id='run-940a7c5b-8de6-4c57-9b27-34b426392e0f-0', usage_metadata={'input_tokens': 108, 'output_tokens': 15, 'total_tokens': 123, 'input_token_details': {'audio': 0, 'cache_read': 0}, 'output_token_details': {'audio': 0, 'reasoning': 0}})]}}, 'thread_id': '1', 'step': 3, 'parents': {}}, created_at='2025-02-18T11:34:11.231920+00:00', parent_config={'configurable': {'thread_id': '1', 'checkpoint_ns': '', 'checkpoint_id': '1efedec3-9444-6d8c-8002-2d3f839a1c02'}}, tasks=()),\n",
       " StateSnapshot(values={'messages': [HumanMessage(content='Multiply 4*4', additional_kwargs={}, response_metadata={}, id='2ec56e41-37be-4fd9-83a4-0c609b135526'), AIMessage(content='', additional_kwargs={'tool_calls': [{'id': 'call_eHnWfAesprcXnCi7eIrdiOP5', 'function': {'arguments': '{\"a\":4,\"b\":4}', 'name': 'multiply'}, 'type': 'function'}], 'refusal': None}, response_metadata={'token_usage': {'completion_tokens': 18, 'prompt_tokens': 83, 'total_tokens': 101, 'completion_tokens_details': {'accepted_prediction_tokens': 0, 'audio_tokens': 0, 'reasoning_tokens': 0, 'rejected_prediction_tokens': 0}, 'prompt_tokens_details': {'audio_tokens': 0, 'cached_tokens': 0}}, 'model_name': 'gpt-4o-mini-2024-07-18', 'system_fingerprint': 'fp_13eed4fce1', 'finish_reason': 'tool_calls', 'logprobs': None}, id='run-585562b1-6205-4e48-b1c1-c41a4557743d-0', tool_calls=[{'name': 'multiply', 'args': {'a': 4, 'b': 4}, 'id': 'call_eHnWfAesprcXnCi7eIrdiOP5', 'type': 'tool_call'}], usage_metadata={'input_tokens': 83, 'output_tokens': 18, 'total_tokens': 101, 'input_token_details': {'audio': 0, 'cache_read': 0}, 'output_token_details': {'audio': 0, 'reasoning': 0}}), ToolMessage(content='16', name='multiply', id='ff59dc8f-3cef-4f37-bb63-802c8fb8acf1', tool_call_id='call_eHnWfAesprcXnCi7eIrdiOP5')]}, next=('assistant',), config={'configurable': {'thread_id': '1', 'checkpoint_ns': '', 'checkpoint_id': '1efedec3-9444-6d8c-8002-2d3f839a1c02'}}, metadata={'source': 'loop', 'writes': {'tools': {'messages': [ToolMessage(content='16', name='multiply', id='ff59dc8f-3cef-4f37-bb63-802c8fb8acf1', tool_call_id='call_eHnWfAesprcXnCi7eIrdiOP5')]}}, 'thread_id': '1', 'step': 2, 'parents': {}}, created_at='2025-02-18T11:33:50.061680+00:00', parent_config={'configurable': {'thread_id': '1', 'checkpoint_ns': '', 'checkpoint_id': '1efedec3-943a-67a0-8001-183609d21652'}}, tasks=(PregelTask(id='6922f8f6-c970-4f71-d05f-63a696f81746', name='assistant', path=('__pregel_pull', 'assistant'), error=None, interrupts=(), state=None, result={'messages': [AIMessage(content='The result of multiplying 4 by 4 is 16.', additional_kwargs={'refusal': None}, response_metadata={'token_usage': {'completion_tokens': 15, 'prompt_tokens': 108, 'total_tokens': 123, 'completion_tokens_details': {'accepted_prediction_tokens': 0, 'audio_tokens': 0, 'reasoning_tokens': 0, 'rejected_prediction_tokens': 0}, 'prompt_tokens_details': {'audio_tokens': 0, 'cached_tokens': 0}}, 'model_name': 'gpt-4o-mini-2024-07-18', 'system_fingerprint': 'fp_13eed4fce1', 'finish_reason': 'stop', 'logprobs': None}, id='run-940a7c5b-8de6-4c57-9b27-34b426392e0f-0', usage_metadata={'input_tokens': 108, 'output_tokens': 15, 'total_tokens': 123, 'input_token_details': {'audio': 0, 'cache_read': 0}, 'output_token_details': {'audio': 0, 'reasoning': 0}})]}),)),\n",
       " StateSnapshot(values={'messages': [HumanMessage(content='Multiply 4*4', additional_kwargs={}, response_metadata={}, id='2ec56e41-37be-4fd9-83a4-0c609b135526'), AIMessage(content='', additional_kwargs={'tool_calls': [{'id': 'call_eHnWfAesprcXnCi7eIrdiOP5', 'function': {'arguments': '{\"a\":4,\"b\":4}', 'name': 'multiply'}, 'type': 'function'}], 'refusal': None}, response_metadata={'token_usage': {'completion_tokens': 18, 'prompt_tokens': 83, 'total_tokens': 101, 'completion_tokens_details': {'accepted_prediction_tokens': 0, 'audio_tokens': 0, 'reasoning_tokens': 0, 'rejected_prediction_tokens': 0}, 'prompt_tokens_details': {'audio_tokens': 0, 'cached_tokens': 0}}, 'model_name': 'gpt-4o-mini-2024-07-18', 'system_fingerprint': 'fp_13eed4fce1', 'finish_reason': 'tool_calls', 'logprobs': None}, id='run-585562b1-6205-4e48-b1c1-c41a4557743d-0', tool_calls=[{'name': 'multiply', 'args': {'a': 4, 'b': 4}, 'id': 'call_eHnWfAesprcXnCi7eIrdiOP5', 'type': 'tool_call'}], usage_metadata={'input_tokens': 83, 'output_tokens': 18, 'total_tokens': 101, 'input_token_details': {'audio': 0, 'cache_read': 0}, 'output_token_details': {'audio': 0, 'reasoning': 0}})]}, next=('tools',), config={'configurable': {'thread_id': '1', 'checkpoint_ns': '', 'checkpoint_id': '1efedec3-943a-67a0-8001-183609d21652'}}, metadata={'source': 'loop', 'writes': {'assistant': {'messages': [AIMessage(content='', additional_kwargs={'tool_calls': [{'id': 'call_eHnWfAesprcXnCi7eIrdiOP5', 'function': {'arguments': '{\"a\":4,\"b\":4}', 'name': 'multiply'}, 'type': 'function'}], 'refusal': None}, response_metadata={'token_usage': {'completion_tokens': 18, 'prompt_tokens': 83, 'total_tokens': 101, 'completion_tokens_details': {'accepted_prediction_tokens': 0, 'audio_tokens': 0, 'reasoning_tokens': 0, 'rejected_prediction_tokens': 0}, 'prompt_tokens_details': {'audio_tokens': 0, 'cached_tokens': 0}}, 'model_name': 'gpt-4o-mini-2024-07-18', 'system_fingerprint': 'fp_13eed4fce1', 'finish_reason': 'tool_calls', 'logprobs': None}, id='run-585562b1-6205-4e48-b1c1-c41a4557743d-0', tool_calls=[{'name': 'multiply', 'args': {'a': 4, 'b': 4}, 'id': 'call_eHnWfAesprcXnCi7eIrdiOP5', 'type': 'tool_call'}], usage_metadata={'input_tokens': 83, 'output_tokens': 18, 'total_tokens': 101, 'input_token_details': {'audio': 0, 'cache_read': 0}, 'output_token_details': {'audio': 0, 'reasoning': 0}})]}}, 'thread_id': '1', 'step': 1, 'parents': {}}, created_at='2025-02-18T11:33:50.057314+00:00', parent_config={'configurable': {'thread_id': '1', 'checkpoint_ns': '', 'checkpoint_id': '1efedec3-889a-6000-8000-271e06fb40c5'}}, tasks=(PregelTask(id='36f3218a-d11f-1a53-8da8-de42bbaa2f60', name='tools', path=('__pregel_pull', 'tools'), error=None, interrupts=(), state=None, result={'messages': [ToolMessage(content='16', name='multiply', id='ff59dc8f-3cef-4f37-bb63-802c8fb8acf1', tool_call_id='call_eHnWfAesprcXnCi7eIrdiOP5')]}),)),\n",
       " StateSnapshot(values={'messages': [HumanMessage(content='Multiply 4*4', additional_kwargs={}, response_metadata={}, id='2ec56e41-37be-4fd9-83a4-0c609b135526')]}, next=('assistant',), config={'configurable': {'thread_id': '1', 'checkpoint_ns': '', 'checkpoint_id': '1efedec3-889a-6000-8000-271e06fb40c5'}}, metadata={'source': 'loop', 'writes': None, 'thread_id': '1', 'step': 0, 'parents': {}}, created_at='2025-02-18T11:33:48.838272+00:00', parent_config={'configurable': {'thread_id': '1', 'checkpoint_ns': '', 'checkpoint_id': '1efedec3-8896-6434-bfff-a004a9017a78'}}, tasks=(PregelTask(id='5bb27699-b573-2a9d-e715-d9ad3c903513', name='assistant', path=('__pregel_pull', 'assistant'), error=None, interrupts=(), state=None, result={'messages': [AIMessage(content='', additional_kwargs={'tool_calls': [{'id': 'call_eHnWfAesprcXnCi7eIrdiOP5', 'function': {'arguments': '{\"a\":4,\"b\":4}', 'name': 'multiply'}, 'type': 'function'}], 'refusal': None}, response_metadata={'token_usage': {'completion_tokens': 18, 'prompt_tokens': 83, 'total_tokens': 101, 'completion_tokens_details': {'accepted_prediction_tokens': 0, 'audio_tokens': 0, 'reasoning_tokens': 0, 'rejected_prediction_tokens': 0}, 'prompt_tokens_details': {'audio_tokens': 0, 'cached_tokens': 0}}, 'model_name': 'gpt-4o-mini-2024-07-18', 'system_fingerprint': 'fp_13eed4fce1', 'finish_reason': 'tool_calls', 'logprobs': None}, id='run-585562b1-6205-4e48-b1c1-c41a4557743d-0', tool_calls=[{'name': 'multiply', 'args': {'a': 4, 'b': 4}, 'id': 'call_eHnWfAesprcXnCi7eIrdiOP5', 'type': 'tool_call'}], usage_metadata={'input_tokens': 83, 'output_tokens': 18, 'total_tokens': 101, 'input_token_details': {'audio': 0, 'cache_read': 0}, 'output_token_details': {'audio': 0, 'reasoning': 0}})]}),)),\n",
       " StateSnapshot(values={'messages': []}, next=('__start__',), config={'configurable': {'thread_id': '1', 'checkpoint_ns': '', 'checkpoint_id': '1efedec3-8896-6434-bfff-a004a9017a78'}}, metadata={'source': 'input', 'writes': {'__start__': {'messages': 'Multiply 4*4'}}, 'thread_id': '1', 'step': -1, 'parents': {}}, created_at='2025-02-18T11:33:48.836745+00:00', parent_config=None, tasks=(PregelTask(id='956ce3d6-7a8b-f39f-23d8-f4040fc7ccb5', name='__start__', path=('__pregel_pull', '__start__'), error=None, interrupts=(), state=None, result={'messages': 'Multiply 4*4'}),))]"
      ]
     },
     "execution_count": 29,
     "metadata": {},
     "output_type": "execute_result"
    }
   ],
   "source": [
    "all_states = [s for s in graph.get_state_history(config)]\n",
    "all_states"
   ]
  },
  {
   "cell_type": "code",
   "execution_count": null,
   "metadata": {},
   "outputs": [
    {
     "name": "stdout",
     "output_type": "stream",
     "text": [
      "================================\u001b[1m Human Message \u001b[0m=================================\n",
      "\n",
      "multiply 5*5\n",
      "==================================\u001b[1m Ai Message \u001b[0m==================================\n",
      "Tool Calls:\n",
      "  multiply (call_paxMrGjB4Ur0GVfPmxENDJZA)\n",
      " Call ID: call_paxMrGjB4Ur0GVfPmxENDJZA\n",
      "  Args:\n",
      "    a: 5\n",
      "    b: 5\n",
      "=================================\u001b[1m Tool Message \u001b[0m=================================\n",
      "Name: multiply\n",
      "\n",
      "25\n"
     ]
    }
   ],
   "source": [
    "for event in graph.stream(None, fork_config, stream_mode=\"values\"):\n",
    "    event[\"messages\"][-1].pretty_print()"
   ]
  },
  {
   "cell_type": "code",
   "execution_count": null,
   "metadata": {},
   "outputs": [
    {
     "data": {
      "text/plain": [
       "StateSnapshot(values={'messages': [HumanMessage(content='multiply 5*5', additional_kwargs={}, response_metadata={}, id='527a9b39-ea1c-4151-980a-aa74cc0b988a'), AIMessage(content='', additional_kwargs={'tool_calls': [{'id': 'call_EeDoPBzxoA5n4grsJ96dBwPJ', 'function': {'arguments': '{\"a\":5,\"b\":5}', 'name': 'multiply'}, 'type': 'function'}], 'refusal': None}, response_metadata={'token_usage': {'completion_tokens': 18, 'prompt_tokens': 83, 'total_tokens': 101, 'completion_tokens_details': {'accepted_prediction_tokens': 0, 'audio_tokens': 0, 'reasoning_tokens': 0, 'rejected_prediction_tokens': 0}, 'prompt_tokens_details': {'audio_tokens': 0, 'cached_tokens': 0}}, 'model_name': 'gpt-4o-mini-2024-07-18', 'system_fingerprint': 'fp_00428b782a', 'finish_reason': 'tool_calls', 'logprobs': None}, id='run-85c0a8d1-9caa-4322-95ee-8209297bb0dc-0', tool_calls=[{'name': 'multiply', 'args': {'a': 5, 'b': 5}, 'id': 'call_EeDoPBzxoA5n4grsJ96dBwPJ', 'type': 'tool_call'}], usage_metadata={'input_tokens': 83, 'output_tokens': 18, 'total_tokens': 101, 'input_token_details': {'audio': 0, 'cache_read': 0}, 'output_token_details': {'audio': 0, 'reasoning': 0}}), ToolMessage(content='25', name='multiply', id='0028c821-4bac-4707-a9d7-0bbe67ddf775', tool_call_id='call_EeDoPBzxoA5n4grsJ96dBwPJ'), AIMessage(content='The result of multiplying 5 by 5 is 25.', additional_kwargs={'refusal': None}, response_metadata={'token_usage': {'completion_tokens': 15, 'prompt_tokens': 108, 'total_tokens': 123, 'completion_tokens_details': {'accepted_prediction_tokens': 0, 'audio_tokens': 0, 'reasoning_tokens': 0, 'rejected_prediction_tokens': 0}, 'prompt_tokens_details': {'audio_tokens': 0, 'cached_tokens': 0}}, 'model_name': 'gpt-4o-mini-2024-07-18', 'system_fingerprint': 'fp_00428b782a', 'finish_reason': 'stop', 'logprobs': None}, id='run-067b245c-e0e1-4915-b58b-ca8e7db76390-0', usage_metadata={'input_tokens': 108, 'output_tokens': 15, 'total_tokens': 123, 'input_token_details': {'audio': 0, 'cache_read': 0}, 'output_token_details': {'audio': 0, 'reasoning': 0}})]}, next=(), config={'configurable': {'thread_id': '1', 'checkpoint_ns': '', 'checkpoint_id': '1efedebf-94aa-6dbb-8004-0051adf026e8'}}, metadata={'source': 'loop', 'writes': {'assistant': {'messages': [AIMessage(content='The result of multiplying 5 by 5 is 25.', additional_kwargs={'refusal': None}, response_metadata={'token_usage': {'completion_tokens': 15, 'prompt_tokens': 108, 'total_tokens': 123, 'completion_tokens_details': {'accepted_prediction_tokens': 0, 'audio_tokens': 0, 'reasoning_tokens': 0, 'rejected_prediction_tokens': 0}, 'prompt_tokens_details': {'audio_tokens': 0, 'cached_tokens': 0}}, 'model_name': 'gpt-4o-mini-2024-07-18', 'system_fingerprint': 'fp_00428b782a', 'finish_reason': 'stop', 'logprobs': None}, id='run-067b245c-e0e1-4915-b58b-ca8e7db76390-0', usage_metadata={'input_tokens': 108, 'output_tokens': 15, 'total_tokens': 123, 'input_token_details': {'audio': 0, 'cache_read': 0}, 'output_token_details': {'audio': 0, 'reasoning': 0}})]}}, 'thread_id': '1', 'checkpoint_ns': '', 'checkpoint_id': '1efedeb8-4822-6beb-8001-afc37d47f0c0', 'step': 4, 'parents': {}}, created_at='2025-02-18T11:32:02.729290+00:00', parent_config={'configurable': {'thread_id': '1', 'checkpoint_ns': '', 'checkpoint_id': '1efedebe-c97b-6589-8003-0e3923aa9b7f'}}, tasks=())"
      ]
     },
     "execution_count": 20,
     "metadata": {},
     "output_type": "execute_result"
    }
   ],
   "source": [
    "graph.get_state({'configurable': {'thread_id': '1'}})"
   ]
  },
  {
   "cell_type": "code",
   "execution_count": null,
   "metadata": {},
   "outputs": [],
   "source": []
  },
  {
   "cell_type": "code",
   "execution_count": null,
   "metadata": {},
   "outputs": [],
   "source": []
  }
 ],
 "metadata": {
  "kernelspec": {
   "display_name": "Python 3",
   "language": "python",
   "name": "python3"
  },
  "language_info": {
   "codemirror_mode": {
    "name": "ipython",
    "version": 3
   },
   "file_extension": ".py",
   "mimetype": "text/x-python",
   "name": "python",
   "nbconvert_exporter": "python",
   "pygments_lexer": "ipython3",
   "version": "3.13.1"
  }
 },
 "nbformat": 4,
 "nbformat_minor": 2
}
