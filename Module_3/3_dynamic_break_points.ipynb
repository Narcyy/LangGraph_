{
 "cells": [
  {
   "cell_type": "code",
   "execution_count": 2,
   "metadata": {},
   "outputs": [],
   "source": [
    "from langgraph.graph import START, END, StateGraph\n",
    "from typing import TypedDict\n",
    "from langgraph.checkpoint.memory import MemorySaver\n",
    "from langgraph.errors import NodeInterrupt\n",
    "from IPython.display import Image, display"
   ]
  },
  {
   "cell_type": "code",
   "execution_count": 3,
   "metadata": {},
   "outputs": [
    {
     "data": {
      "image/png": "[encoded data removed]",
      "text/plain": [
       "<IPython.core.display.Image object>"
      ]
     },
     "metadata": {},
     "output_type": "display_data"
    }
   ],
   "source": [
    "class State(TypedDict):\n",
    "    input: str\n",
    "\n",
    "# Nodes\n",
    "def node_1(state:State):\n",
    "    print(\"---Node 1 ---\")\n",
    "    return state\n",
    "\n",
    "def node_2(state: State):\n",
    "    print(\"--- Node 2 ---\")\n",
    "    if len(state[\"input\"]) >5:\n",
    "        raise NodeInterrupt(f\"Recieved longer input.{state['input']}\")\n",
    "\n",
    "def node_3(state: State):\n",
    "    print(\"--- Node 3---\")\n",
    "    return state\n",
    "\n",
    "builder  = StateGraph(State)\n",
    "\n",
    "builder.add_node(\"node_1\", node_1)\n",
    "builder.add_node(\"node_2\", node_2)\n",
    "builder.add_node(\"node_3\", node_3)\n",
    "\n",
    "builder.add_edge(START, \"node_1\")\n",
    "builder.add_edge(\"node_1\", \"node_2\")\n",
    "builder.add_edge(\"node_2\", \"node_3\")\n",
    "builder.add_edge(\"node_3\", END)\n",
    "\n",
    "memory  = MemorySaver()\n",
    "graph = builder.compile(checkpointer=memory)\n",
    "\n",
    "# Graph Image\n",
    "display(Image(graph.get_graph().draw_mermaid_png()))"
   ]
  },
  {
   "cell_type": "code",
   "execution_count": 4,
   "metadata": {},
   "outputs": [
    {
     "name": "stdout",
     "output_type": "stream",
     "text": [
      "{'input': 'Hello Narcy'}\n",
      "---Node 1 ---\n",
      "{'input': 'Hello Narcy'}\n",
      "--- Node 2 ---\n"
     ]
    }
   ],
   "source": [
    "\n",
    "config = {\"configurable\":{\"thread_id\":\"1\"}}\n",
    "initial_input = {\"input\": \"Hello Narcy\"}\n",
    "for event in graph.stream(initial_input, config, stream_mode=\"values\"):\n",
    "    print(event)"
   ]
  },
  {
   "cell_type": "code",
   "execution_count": null,
   "metadata": {},
   "outputs": [
    {
     "data": {
      "text/plain": [
       "[StateSnapshot(values={'input': 'Hello Narcy'}, next=('node_2',), config={'configurable': {'thread_id': '1', 'checkpoint_ns': '', 'checkpoint_id': '1efeddcd-b70b-6619-8001-5fe096cbff72'}}, metadata={'source': 'loop', 'writes': {'node_1': {'input': 'Hello Narcy'}}, 'thread_id': '1', 'step': 1, 'parents': {}}, created_at='2025-02-18T09:43:50.195934+00:00', parent_config={'configurable': {'thread_id': '1', 'checkpoint_ns': '', 'checkpoint_id': '1efeddcd-b706-64bf-8000-172c1172377f'}}, tasks=(PregelTask(id='7cc60047-7ce6-a240-3bba-e43c4d2d8bc0', name='node_2', path=('__pregel_pull', 'node_2'), error=None, interrupts=(Interrupt(value='Recieved longer input.Hello Narcy', resumable=False, ns=None, when='during'),), state=None, result=None),)),\n",
       " StateSnapshot(values={'input': 'Hello Narcy'}, next=('node_1',), config={'configurable': {'thread_id': '1', 'checkpoint_ns': '', 'checkpoint_id': '1efeddcd-b706-64bf-8000-172c1172377f'}}, metadata={'source': 'loop', 'writes': None, 'thread_id': '1', 'step': 0, 'parents': {}}, created_at='2025-02-18T09:43:50.193863+00:00', parent_config={'configurable': {'thread_id': '1', 'checkpoint_ns': '', 'checkpoint_id': '1efeddcd-b6ff-6ae8-bfff-23dad4a75ce7'}}, tasks=(PregelTask(id='79acd4c0-8295-2ed2-06b8-6c9f9e438d65', name='node_1', path=('__pregel_pull', 'node_1'), error=None, interrupts=(), state=None, result={'input': 'Hello Narcy'}),)),\n",
       " StateSnapshot(values={}, next=('__start__',), config={'configurable': {'thread_id': '1', 'checkpoint_ns': '', 'checkpoint_id': '1efeddcd-b6ff-6ae8-bfff-23dad4a75ce7'}}, metadata={'source': 'input', 'writes': {'__start__': {'input': 'Hello Narcy'}}, 'thread_id': '1', 'step': -1, 'parents': {}}, created_at='2025-02-18T09:43:50.191166+00:00', parent_config=None, tasks=(PregelTask(id='e6650075-4a7b-e7be-d185-c7d31aa8c783', name='__start__', path=('__pregel_pull', '__start__'), error=None, interrupts=(), state=None, result={'input': 'Hello Narcy'}),))]"
      ]
     },
     "execution_count": 14,
     "metadata": {},
     "output_type": "execute_result"
    }
   ],
   "source": []
  },
  {
   "cell_type": "code",
   "execution_count": 40,
   "metadata": {},
   "outputs": [
    {
     "name": "stdout",
     "output_type": "stream",
     "text": [
      "{'input': 'Hello Narcy'}\n",
      "--- Node 2 ---\n"
     ]
    }
   ],
   "source": [
    "# Previously use method, passing None as input\n",
    "for event in graph.stream(None, config, stream_mode=\"values\"):\n",
    "    print(event)"
   ]
  },
  {
   "cell_type": "code",
   "execution_count": 47,
   "metadata": {},
   "outputs": [
    {
     "data": {
      "text/plain": [
       "{'configurable': {'thread_id': '1',\n",
       "  'checkpoint_ns': '',\n",
       "  'checkpoint_id': '1efeddb9-7029-6899-8008-6f41bf6e732d'}}"
      ]
     },
     "execution_count": 47,
     "metadata": {},
     "output_type": "execute_result"
    }
   ],
   "source": [
    "# Updating graph state with new input\n",
    "graph.update_state(\n",
    "    config,\n",
    "    {\"input\":\"Hell\"}\n",
    ")\n"
   ]
  },
  {
   "cell_type": "code",
   "execution_count": 1,
   "metadata": {},
   "outputs": [
    {
     "ename": "NameError",
     "evalue": "name 'graph' is not defined",
     "output_type": "error",
     "traceback": [
      "\u001b[1;31m---------------------------------------------------------------------------\u001b[0m",
      "\u001b[1;31mNameError\u001b[0m                                 Traceback (most recent call last)",
      "Cell \u001b[1;32mIn[1], line 2\u001b[0m\n\u001b[0;32m      1\u001b[0m \u001b[38;5;66;03m# Passing None as always tp continue the state where it left off!\u001b[39;00m\n\u001b[1;32m----> 2\u001b[0m \u001b[38;5;28;01mfor\u001b[39;00m event \u001b[38;5;129;01min\u001b[39;00m \u001b[43mgraph\u001b[49m\u001b[38;5;241m.\u001b[39mstream(\u001b[38;5;28;01mNone\u001b[39;00m, config, stream_mode\u001b[38;5;241m=\u001b[39m\u001b[38;5;124m\"\u001b[39m\u001b[38;5;124mvalues\u001b[39m\u001b[38;5;124m\"\u001b[39m):\n\u001b[0;32m      3\u001b[0m     \u001b[38;5;28mprint\u001b[39m(event)\n",
      "\u001b[1;31mNameError\u001b[0m: name 'graph' is not defined"
     ]
    }
   ],
   "source": [
    "# Passing None as always tp continue the state where it left off!\n",
    "for event in graph.stream(None, config, stream_mode=\"values\"):\n",
    "    print(event)"
   ]
  },
  {
   "cell_type": "code",
   "execution_count": null,
   "metadata": {},
   "outputs": [],
   "source": []
  }
 ],
 "metadata": {
  "kernelspec": {
   "display_name": "Python 3",
   "language": "python",
   "name": "python3"
  },
  "language_info": {
   "codemirror_mode": {
    "name": "ipython",
    "version": 3
   },
   "file_extension": ".py",
   "mimetype": "text/x-python",
   "name": "python",
   "nbconvert_exporter": "python",
   "pygments_lexer": "ipython3",
   "version": "3.13.1"
  }
 },
 "nbformat": 4,
 "nbformat_minor": 2
}
